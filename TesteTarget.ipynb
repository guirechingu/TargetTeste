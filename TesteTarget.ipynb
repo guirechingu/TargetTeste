{
  "cells": [
    {
      "attachments": {},
      "cell_type": "markdown",
      "metadata": {},
      "source": [
        "### **Teste 1**\n",
        "Ao final do processamento, qual será o valor da variável SOMA?"
      ]
    },
    {
      "attachments": {},
      "cell_type": "markdown",
      "metadata": {},
      "source": [
        "O valor de SOMA será 91"
      ]
    },
    {
      "cell_type": "markdown",
      "metadata": {
        "id": "WjWXMf9a78Rh"
      },
      "source": [
        "### **Teste 2**\n",
        "Dado a sequência de Fibonacci, onde se inicia por 0 e 1 e o próximo valor sempre será a soma dos 2 valores anteriores (exemplo: 0, 1, 1, 2, 3, 5, 8, 13, 21, 34...), escreva um programa na linguagem que desejar onde, informado um número, ele calcule a sequência de Fibonacci e retorne uma mensagem avisando se o número informado pertence ou não a sequência."
      ]
    },
    {
      "cell_type": "code",
      "execution_count": 1,
      "metadata": {
        "colab": {
          "base_uri": "https://localhost:8080/"
        },
        "id": "GTzUuVee7Xhg",
        "outputId": "3f87976f-1423-407e-e32d-58c21c011b89"
      },
      "outputs": [
        {
          "name": "stdout",
          "output_type": "stream",
          "text": [
            "---------------------------------------------------------------------------------\n",
            "Sequência: \n",
            "0\n",
            "1\n",
            "1\n",
            "2\n",
            "3\n",
            "5\n",
            "8\n",
            "13\n",
            "21\n",
            "34\n",
            "55\n",
            "89\n",
            "144\n",
            "---------------------------------------------------------------------------------\n",
            "O número 115 não pertence a sequência de Fibonacci\n"
          ]
        }
      ],
      "source": [
        "n = int(input(\"Insira o número para saber se pertence a sequência de Fibonacci: \"))\n",
        "print(\"---------------------------------------------------------------------------------\")\n",
        "ultimo = 1\n",
        "penultimo = 1\n",
        "resultado = False\n",
        "print(\"Sequência: \")\n",
        "if (n==1):\n",
        "    print(\"1\")\n",
        "else:\n",
        "    print(0)\n",
        "    print(1)\n",
        "    print(1)\n",
        "    fibo=2\n",
        "    while fibo <= n:\n",
        "        fibo = ultimo + penultimo\n",
        "        penultimo = ultimo\n",
        "        ultimo = fibo\n",
        "        print(fibo)\n",
        "        if (n==fibo):\n",
        "          resultado = True\n",
        "    print(\"---------------------------------------------------------------------------------\")\n",
        "    if (resultado == True):\n",
        "      print(\"O número\", n, \"pertence a sequência de Fibonacci\")\n",
        "    else:\n",
        "      print(\"O número\", n, \"não pertence a sequência de Fibonacci\")"
      ]
    },
    {
      "cell_type": "markdown",
      "metadata": {
        "id": "AOkyfctHACiF"
      },
      "source": [
        "### **Teste 3**\n",
        "\n",
        "Dado um vetor que guarda o valor de faturamento diário de uma distribuidora, faça um programa, na linguagem que desejar, que calcule e retorne:\n",
        "  \n",
        "\n",
        "> • O menor valor de faturamento ocorrido em um dia do mês;\n",
        "\n",
        "> • O maior valor de faturamento ocorrido em um dia do mês;\n",
        "\n",
        "> • Número de dias no mês em que o valor de faturamento diário foi superior à média mensal."
      ]
    },
    {
      "cell_type": "code",
      "execution_count": 2,
      "metadata": {
        "colab": {
          "base_uri": "https://localhost:8080/"
        },
        "id": "tcOLgWS6AKVL",
        "outputId": "16fb958b-e97c-4bff-bbd5-ef00ed11eef6"
      },
      "outputs": [
        {
          "name": "stdout",
          "output_type": "stream",
          "text": [
            "O menor valor de faturamento do mês é 373.7838\n",
            "O maior valor de faturamento do mês é 48924.2448\n",
            "A média dos valores é 20865.370166666664\n",
            "A quantidade de dias com valores superiores a média é 10\n"
          ]
        }
      ],
      "source": [
        "#imports\n",
        "import json\n",
        "import pandas as pd\n",
        "import numpy as np\n",
        "\n",
        "#abertura do aquivo json em um dicionario\n",
        "f = open('dados.json')\n",
        "dados = json.load(f)\n",
        "f.close()\n",
        "\n",
        "#converter dicionario em um dataframe para facilidade na manipulação dos dados\n",
        "df = pd.DataFrame.from_dict(dados)\n",
        "\n",
        "#remover linhas com valor igual a zero\n",
        "df = df[df.valor != 0]\n",
        "\n",
        "#calculando o menor valor\n",
        "menor = min(df.valor)\n",
        "print(\"O menor valor de faturamento do mês é\", menor)\n",
        "\n",
        "#calculando o maior valor\n",
        "maior = max(df.valor)\n",
        "print(\"O maior valor de faturamento do mês é\", maior)\n",
        "\n",
        "media = np.mean(df['valor'])\n",
        "print(\"A média dos valores é\", media)\n",
        "\n",
        "qtd_val_superior = np.count_nonzero(df[\"valor\"] > media)\n",
        "print(\"A quantidade de dias com valores superiores a média é\", qtd_val_superior)\n",
        "\n"
      ]
    },
    {
      "cell_type": "markdown",
      "metadata": {
        "id": "9bQQUx2FLhOc"
      },
      "source": [
        "### **Teste 4**\n",
        "\n",
        "Dado o valor de faturamento mensal de uma distribuidora, detalhado por estado:\n",
        "\n",
        "SP – 67.836,43\n",
        "RJ – 36.678,66\n",
        "MG – 29.229,88\n",
        "ES – 27.165,48\n",
        "Outros – 19.849,53\n",
        "\n",
        "Escreva um programa na linguagem que desejar onde calcule o percentual de representação que cada estado teve dentro do valor total mensal da distribuidora."
      ]
    },
    {
      "cell_type": "code",
      "execution_count": 3,
      "metadata": {
        "colab": {
          "base_uri": "https://localhost:8080/"
        },
        "id": "DP-eTXwZLxwF",
        "outputId": "a96cb27c-000a-4cc1-f4fa-ab28785e6904"
      },
      "outputs": [
        {
          "name": "stdout",
          "output_type": "stream",
          "text": [
            "sp = 37.52845624346716 %\n",
            "rj = 20.291360952794975 %\n",
            "mg = 16.170548370275323 %\n",
            "es = 15.028481414968068 %\n",
            "outros = 10.981153018494469 %\n"
          ]
        }
      ],
      "source": [
        "dicionario = {\"sp\": 67836.43,\n",
        "              \"rj\": 36678.66, \n",
        "              \"mg\": 29229.88, \n",
        "              \"es\": 27165.48,\n",
        "              \"outros\": 19849.53}\n",
        "\n",
        "#convertendo os valores em listas\n",
        "valores = list(dicionario.values())\n",
        "chaves = list(dicionario.keys())\n",
        "\n",
        "#calculando o total\n",
        "total = sum(valores)\n",
        "\n",
        "for i in range(len(valores)):\n",
        " porcentagem = valores[i]/total*100 #calculo da porcentagem\n",
        " print(chaves[i], \"=\", porcentagem, \"%\") \n"
      ]
    },
    {
      "cell_type": "markdown",
      "metadata": {
        "id": "4zkH9vNqSDu1"
      },
      "source": [
        "### **Teste 5**\n",
        "\n",
        "Escreva um programa que inverta os caracteres de um string."
      ]
    },
    {
      "cell_type": "code",
      "execution_count": 4,
      "metadata": {
        "colab": {
          "base_uri": "https://localhost:8080/"
        },
        "id": "to1aGZDJQDjD",
        "outputId": "40253db4-978a-406e-923a-20b43ba10adb"
      },
      "outputs": [
        {
          "name": "stdout",
          "output_type": "stream",
          "text": [
            "A palavra digitada é: acabou\n",
            "A palavra invertida é: uobaca\n"
          ]
        }
      ],
      "source": [
        "palavra = input(\"Digite uma palavra: \")\n",
        "lista = [i for i in palavra] #converter a string em lista\n",
        "lista2 =[]\n",
        "\n",
        "for i in lista[::-1]: #iterando pela lista ao contrario para criar a nova lista\n",
        "  lista2.append(i)\n",
        "\n",
        "palavra2 = ''.join(str(x) for x in lista2) #convertendo a lista em string\n",
        "print(\"A palavra digitada é:\", palavra)\n",
        "print(\"A palavra invertida é:\", palavra2)"
      ]
    }
  ],
  "metadata": {
    "colab": {
      "collapsed_sections": [],
      "name": "TesteTarget.ipynb",
      "provenance": []
    },
    "kernelspec": {
      "display_name": "d2l",
      "language": "python",
      "name": "python3"
    },
    "language_info": {
      "codemirror_mode": {
        "name": "ipython",
        "version": 3
      },
      "file_extension": ".py",
      "mimetype": "text/x-python",
      "name": "python",
      "nbconvert_exporter": "python",
      "pygments_lexer": "ipython3",
      "version": "3.9.13"
    },
    "vscode": {
      "interpreter": {
        "hash": "b6811291ebc6a1101dad9e06911db63e2939aee7bbc2b0dc38a0c92b3ecb53df"
      }
    }
  },
  "nbformat": 4,
  "nbformat_minor": 0
}
